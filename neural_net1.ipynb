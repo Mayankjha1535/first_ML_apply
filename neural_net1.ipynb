{
 "cells": [
  {
   "cell_type": "code",
   "execution_count": 1,
   "metadata": {
    "collapsed": true
   },
   "outputs": [],
   "source": [
    "import random\n",
    "import numpy as np\n",
    "class network(object):\n",
    "    def __init__(self,sizes):\n",
    "        self.num_layers=len(sizes)\n",
    "        self.sizes = sizes\n",
    "        self.biases=[np.random.randn(y,1) for y in sizes[1:]]\n",
    "        self.weights=[np.random.randn(y,x) for x,y in zip(sizes[:-1],sizes[1:])]\n",
    "    \n",
    "    def feedforward(self,a):\n",
    "        for b,w in zip(self.biases,self.weights):\n",
    "            a=sigmoid(np.dot(w,a)+b)\n",
    "        return a\n",
    "    def SGD(self,training_data,epochs,mini_batch_size,eta,test_data=None):\n",
    "        if test_data:\n",
    "            n_test=len(test_data)\n",
    "            n = len(training_data)\n",
    "            for j in xrange(epochs):\n",
    "                random.shuffle(training_data)\n",
    "                mini_batches=[training_data[k:k+mini_batch_size] for k in xrange(0,n,mini_batch_size)]\n",
    "                for mini_batch in mini_batches:\n",
    "                    self.update_mini_batch(mini_batch,eta)\n",
    "                if test_data:\n",
    "                    print \"Epoch: {0} : {1} / {2}\".format(j,self.evaluate(test_data),n_test)\n",
    "                else:\n",
    "                    print \"Epoch: {0} completed\".format(j)\n",
    "                    \n",
    "    def update_mini_batch(self,mini_batch,eta):\n",
    "        w_new=[np.zeros(w.shape) for w in self.weights]\n",
    "        b_new=[np.zeros(b.shape) for b in self.biases]\n",
    "        for x,y in mini_batch:\n",
    "            delta_b,delta_w = self.backprop(x,y)\n",
    "            w_new=[nw+dnw for nw,dnw in zip(w_new,delta_w)]\n",
    "            b_new=[nb+dnb for nb,dnb in zip(b_new,delta_b)]\n",
    "        self.weights=[w-(eta/len(mini_batch))*nw for w,nw in zip(self.weights,w_new)]\n",
    "        self.biases=[b-(eta/len(mini_batch))*nb for b,nb in zip(self.biases,b_new)]\n",
    "    def backprop(self,x,y):\n",
    "        w_new=[np.zeros(w.shape) for w in self.weights]\n",
    "        b_new=[np.zeros(b.shape) for b in self.biases]\n",
    "        activation = x\n",
    "        activations= [x]\n",
    "        zs= []\n",
    "        for b,w in zip(self.biases,self.weights):\n",
    "            z=np.dot(w,activation)+b\n",
    "            zs.append(z)\n",
    "            activation =sigmoid(z)\n",
    "            activations.append(activation)\n",
    "        delta = self.cost_derivative(activations[-1],y)*sigmoid_deriv(zs[-1]) \n",
    "        b_new[-1]=delta\n",
    "        w_new[-1]=np.dot(delta,activations[-2].transpose())\n",
    "        for i in xrange(2,self.num_layers):\n",
    "            z=zs[-i]\n",
    "            s=sigmoid_deriv(z)\n",
    "            delta= np.dot(self.weights[-i+1].transpose(),delta)*s\n",
    "            b_new[-i]= delta\n",
    "            w_new[-i]=np.dot(delta,activations[-i-1].transpose())\n",
    "        return (b_new,w_new)\n",
    "    def cost_derivative(self,output_activations,y):\n",
    "        return (output_activations-y)\n",
    "    def evaluate(self,test_data):\n",
    "        test_results=[(np.argmax (self.feedforward(x)),y) for (x,y) in test_data]\n",
    "        return sum(int(x==y) for (x,y) in test_results)\n",
    "def sigmoid(z):\n",
    "        return 1.0/(1.0+np.exp(-z))\n",
    "def sigmoid_deriv(z):\n",
    "    return sigmoid(z)*(1-sigmoid(z))        "
   ]
  },
  {
   "cell_type": "code",
   "execution_count": 2,
   "metadata": {
    "collapsed": true
   },
   "outputs": [],
   "source": [
    "import cPickle\n",
    "import numpy as np\n",
    "import gzip\n",
    "\n",
    "def load_data():\n",
    "    l= gzip.open('mnist.pkl.gz','rb')\n",
    "    training_data,validation_data,test_data= cPickle.load(l)\n",
    "    l.close()\n",
    "    return (training_data,validation_data,test_data)\n",
    "def load_data_wrapper():\n",
    "    tr_d,va_d,te_d = load_data()\n",
    "    training_inputs = [np.reshape(x, (784,1)) for x in tr_d[0]]\n",
    "    training_results = [result(y) for y in tr_d[1]]\n",
    "    training_data = zip(training_inputs,training_results)\n",
    "    validation_inputs = [np.reshape(x, (784,1)) for x in va_d[0]]\n",
    "    validation_data = zip(validation_inputs,va_d[1])\n",
    "    test_inputs = [np.reshape(x, (784,1)) for x in  te_d[0]]\n",
    "    test_data = zip(test_inputs,te_d[1])\n",
    "    return (training_data,validation_data,test_data)\n",
    "def result(j):\n",
    "    e= np.zeros((10, 1))\n",
    "    e[j]= 1.0\n",
    "    return e\n",
    "\n",
    "    "
   ]
  },
  {
   "cell_type": "code",
   "execution_count": 3,
   "metadata": {
    "collapsed": true,
    "scrolled": true
   },
   "outputs": [],
   "source": [
    "training_data,validation_data,test_data = load_data_wrapper()"
   ]
  },
  {
   "cell_type": "code",
   "execution_count": null,
   "metadata": {
    "collapsed": true
   },
   "outputs": [],
   "source": []
  },
  {
   "cell_type": "code",
   "execution_count": 4,
   "metadata": {
    "collapsed": true
   },
   "outputs": [],
   "source": [
    "data = network([784, 30 , 10])\n"
   ]
  },
  {
   "cell_type": "code",
   "execution_count": 5,
   "metadata": {},
   "outputs": [
    {
     "name": "stdout",
     "output_type": "stream",
     "text": [
      "Epoch: 0 : 8214 / 10000\n",
      "Epoch: 1 : 8321 / 10000\n",
      "Epoch: 2 : 8399 / 10000\n",
      "Epoch: 3 : 8433 / 10000\n",
      "Epoch: 4 : 8477 / 10000\n",
      "Epoch: 5 : 8482 / 10000\n",
      "Epoch: 6 : 8509 / 10000\n",
      "Epoch: 7 : 8501 / 10000\n",
      "Epoch: 8 : 8534 / 10000\n",
      "Epoch: 9 : 8553 / 10000\n",
      "Epoch: 10 : 8565 / 10000\n",
      "Epoch: 11 : 9413 / 10000\n",
      "Epoch: 12 : 9439 / 10000\n",
      "Epoch: 13 : 9419 / 10000\n",
      "Epoch: 14 : 9434 / 10000\n",
      "Epoch: 15 : 9429 / 10000\n",
      "Epoch: 16 : 9449 / 10000\n",
      "Epoch: 17 : 9445 / 10000\n",
      "Epoch: 18 : 9469 / 10000\n",
      "Epoch: 19 : 9467 / 10000\n",
      "Epoch: 20 : 9469 / 10000\n",
      "Epoch: 21 : 9475 / 10000\n",
      "Epoch: 22 : 9480 / 10000\n",
      "Epoch: 23 : 9509 / 10000\n",
      "Epoch: 24 : 9473 / 10000\n",
      "Epoch: 25 : 9484 / 10000\n",
      "Epoch: 26 : 9465 / 10000\n",
      "Epoch: 27 : 9461 / 10000\n",
      "Epoch: 28 : 9478 / 10000\n",
      "Epoch: 29 : 9510 / 10000\n"
     ]
    }
   ],
   "source": [
    "data.SGD(training_data, 30, 10, 3.0, test_data = test_data)"
   ]
  },
  {
   "cell_type": "code",
   "execution_count": null,
   "metadata": {
    "collapsed": true
   },
   "outputs": [],
   "source": []
  },
  {
   "cell_type": "code",
   "execution_count": null,
   "metadata": {
    "collapsed": true
   },
   "outputs": [],
   "source": []
  },
  {
   "cell_type": "code",
   "execution_count": null,
   "metadata": {
    "collapsed": true
   },
   "outputs": [],
   "source": []
  },
  {
   "cell_type": "code",
   "execution_count": null,
   "metadata": {
    "collapsed": true
   },
   "outputs": [],
   "source": []
  },
  {
   "cell_type": "code",
   "execution_count": null,
   "metadata": {
    "collapsed": true
   },
   "outputs": [],
   "source": []
  },
  {
   "cell_type": "code",
   "execution_count": null,
   "metadata": {
    "collapsed": true
   },
   "outputs": [],
   "source": []
  },
  {
   "cell_type": "code",
   "execution_count": null,
   "metadata": {
    "collapsed": true
   },
   "outputs": [],
   "source": []
  },
  {
   "cell_type": "code",
   "execution_count": null,
   "metadata": {
    "collapsed": true
   },
   "outputs": [],
   "source": []
  },
  {
   "cell_type": "code",
   "execution_count": null,
   "metadata": {
    "collapsed": true
   },
   "outputs": [],
   "source": []
  },
  {
   "cell_type": "code",
   "execution_count": null,
   "metadata": {
    "collapsed": true
   },
   "outputs": [],
   "source": []
  },
  {
   "cell_type": "code",
   "execution_count": null,
   "metadata": {
    "collapsed": true
   },
   "outputs": [],
   "source": []
  },
  {
   "cell_type": "code",
   "execution_count": null,
   "metadata": {
    "collapsed": true
   },
   "outputs": [],
   "source": []
  }
 ],
 "metadata": {
  "kernelspec": {
   "display_name": "Python 2",
   "language": "python",
   "name": "python2"
  },
  "language_info": {
   "codemirror_mode": {
    "name": "ipython",
    "version": 2
   },
   "file_extension": ".py",
   "mimetype": "text/x-python",
   "name": "python",
   "nbconvert_exporter": "python",
   "pygments_lexer": "ipython2",
   "version": "2.7.14"
  }
 },
 "nbformat": 4,
 "nbformat_minor": 2
}
